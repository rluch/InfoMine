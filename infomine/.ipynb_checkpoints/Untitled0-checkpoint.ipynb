{
 "metadata": {
  "name": "",
  "signature": "sha256:303f2d651a559099c860ab442bbd00fb5be14d6476f589cc53c276a7e7f09924"
 },
 "nbformat": 3,
 "nbformat_minor": 0,
 "worksheets": []
}