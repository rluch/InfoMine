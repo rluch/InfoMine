{
 "metadata": {
  "name": "",
  "signature": "sha256:eb5bb152fa0aad917cf77c811012c01abe02754f30c58715deee272fbb956b95"
 },
 "nbformat": 3,
 "nbformat_minor": 0,
 "worksheets": [
  {
   "cells": [
    {
     "cell_type": "code",
     "collapsed": false,
     "input": [
      "import sklearn"
     ],
     "language": "python",
     "metadata": {},
     "outputs": [],
     "prompt_number": 1
    }
   ],
   "metadata": {}
  }
 ]
}